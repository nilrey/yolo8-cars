{
  "nbformat": 4,
  "nbformat_minor": 0,
  "metadata": {
    "colab": {
      "provenance": [],
      "gpuType": "T4",
      "mount_file_id": "1cKULVtXmrqVhnD8JY8dSuxKwRB81dDTl",
      "authorship_tag": "ABX9TyOlEeWdV8OY6cFB0+UYPbBF",
      "include_colab_link": true
    },
    "kernelspec": {
      "name": "python3",
      "display_name": "Python 3"
    },
    "language_info": {
      "name": "python"
    },
    "accelerator": "GPU"
  },
  "cells": [
    {
      "cell_type": "markdown",
      "metadata": {
        "id": "view-in-github",
        "colab_type": "text"
      },
      "source": [
        "<a href=\"https://colab.research.google.com/github/nilrey/yolo8-cars/blob/main/Copy_of_cars_yolo8_x_bytrack_frame_1_of_3.ipynb\" target=\"_parent\"><img src=\"https://colab.research.google.com/assets/colab-badge.svg\" alt=\"Open In Colab\"/></a>"
      ]
    },
    {
      "cell_type": "code",
      "source": [
        "!pip install ultralytics"
      ],
      "metadata": {
        "id": "vt0c1Ww7jV3J"
      },
      "execution_count": null,
      "outputs": []
    },
    {
      "cell_type": "code",
      "source": [
        "from ultralytics import YOLO\n",
        "import cv2"
      ],
      "metadata": {
        "id": "R_5bB_nwjX60"
      },
      "execution_count": null,
      "outputs": []
    },
    {
      "cell_type": "code",
      "source": [
        "# Загружаем модель YOLOv8\n",
        "model = YOLO('yolov8x.pt')"
      ],
      "metadata": {
        "id": "_4Hx6bqbjaBq"
      },
      "execution_count": null,
      "outputs": []
    },
    {
      "cell_type": "code",
      "source": [
        "#from google.colab import drive\n",
        "#drive.mount('/content/drive')"
      ],
      "metadata": {
        "id": "QPBoeEM2nJFN"
      },
      "execution_count": null,
      "outputs": []
    },
    {
      "cell_type": "code",
      "source": [
        "video_path = '/content/drive/MyDrive/Colab Notebooks/cars/input/s-001.mp4'\n",
        "cap = cv2.VideoCapture(video_path)\n",
        "output_path = '/content/drive/MyDrive/Colab Notebooks/cars/output/cars-001-s-yolo8-x-bytrack-frame-1-of-3-001.mp4'\n"
      ],
      "metadata": {
        "id": "v9o-hu_2jlC3"
      },
      "execution_count": null,
      "outputs": []
    },
    {
      "cell_type": "code",
      "source": [
        "\n",
        "fps = int(cap.get(cv2.CAP_PROP_FPS))\n",
        "frame_width = int(cap.get(cv2.CAP_PROP_FRAME_WIDTH))\n",
        "frame_height = int(cap.get(cv2.CAP_PROP_FRAME_HEIGHT))\n",
        "\n",
        "allowed_indices = {2, 3, 5, 6, 7, 8}  # Фильтрация классов автомобилей\n",
        "\n",
        "out = cv2.VideoWriter(output_path, cv2.VideoWriter_fourcc(*'mp4v'), fps, (frame_width, frame_height))\n"
      ],
      "metadata": {
        "id": "XswY1eTKjm94"
      },
      "execution_count": null,
      "outputs": []
    },
    {
      "cell_type": "code",
      "source": [
        "print(fps)"
      ],
      "metadata": {
        "colab": {
          "base_uri": "https://localhost:8080/"
        },
        "id": "QrAN118fqKxt",
        "outputId": "76f9f337-a13d-47d2-9f9a-2bdc59a4a212"
      },
      "execution_count": null,
      "outputs": [
        {
          "output_type": "stream",
          "name": "stdout",
          "text": [
            "25\n"
          ]
        }
      ]
    },
    {
      "cell_type": "code",
      "source": [
        "frame_skip = 2  # Пропускаем кадры (анализируем 1 из 3)\n",
        "frame_count = 0  # Счетчик кадров\n",
        "\n",
        "while cap.isOpened():\n",
        "    ret, frame = cap.read()\n",
        "    if not ret:\n",
        "        break\n",
        "\n",
        "    frame_count += 1\n",
        "    # Обрабатываем только каждый 3-й кадр\n",
        "    if frame_count % frame_skip != 0:\n",
        "        out.write(frame)\n",
        "        continue\n",
        "\n",
        "    # Используем модель для анализа текущего кадра с отслеживанием\n",
        "    results = model.track(frame, persist=True, imgsz=640, iou=0.4) # 0.5\n",
        "\n",
        "    if results[0].boxes.id is not None:\n",
        "        for i, box in enumerate(results[0].boxes):\n",
        "            conf = box.conf[0]\n",
        "            if int(box.cls[0]) in allowed_indices and conf > 0.5: # 0.7\n",
        "                xyxy = box.xyxy[0]\n",
        "                conf = box.conf[0]\n",
        "                class_name = results[0].names[int(box.cls[0])]\n",
        "                obj_id = int(results[0].boxes.id[i])  # Получаем ID объекта\n",
        "                label = f'{class_name} {obj_id} ({conf:.2f})'\n",
        "\n",
        "                # Рисуем bounding box и ID на кадре\n",
        "                x1, y1, x2, y2 = map(int, xyxy)\n",
        "                cv2.rectangle(frame, (x1, y1), (x2, y2), (255, 0, 0), 1)\n",
        "                cv2.putText(frame, label, (x1, y1 - 10), cv2.FONT_HERSHEY_SIMPLEX, 0.5, (255, 0, 0), 1)\n",
        "\n",
        "    # Запись обработанного кадра в выходное видео\n",
        "    out.write(frame)\n",
        "\n",
        "cap.release()\n",
        "out.release()\n",
        "cv2.destroyAllWindows()\n",
        "print(f\"Обработанное видео с трекингом сохранено в {output_path}\")\n"
      ],
      "metadata": {
        "id": "8CQYxEFwjKGB"
      },
      "execution_count": null,
      "outputs": []
    }
  ]
}